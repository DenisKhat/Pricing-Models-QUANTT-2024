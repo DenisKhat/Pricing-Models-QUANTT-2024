{
 "cells": [
  {
   "cell_type": "markdown",
   "id": "11373f01-d42b-417e-b764-a7dfec0b6c39",
   "metadata": {},
   "source": [
    "# Presentation Notebook"
   ]
  },
  {
   "cell_type": "markdown",
   "id": "2e731978-4570-4197-9469-be61154e66af",
   "metadata": {},
   "source": [
    "This notebook is meant to be used as the main \"put it all together\" notebook which we can use to present the models we have worked on."
   ]
  },
  {
   "cell_type": "code",
   "execution_count": 1,
   "id": "feb9fdd8-56d9-4c3c-ab81-697ee0dd8f45",
   "metadata": {},
   "outputs": [],
   "source": [
    "SHOW_INTERMEDIATE_DATA = True # set this option if you want to display the data at each step, not just the final result."
   ]
  },
  {
   "cell_type": "markdown",
   "id": "18fbd645-76b1-41e4-812c-44474cb35038",
   "metadata": {},
   "source": [
    "### Setup: import libraries and files"
   ]
  },
  {
   "cell_type": "code",
   "execution_count": 2,
   "id": "0df876b9-710a-4ed2-98c3-1a4b7ab78879",
   "metadata": {},
   "outputs": [],
   "source": [
    "import pandas as pd\n",
    "import numpy as np\n",
    "from MonteCarlo.monte_carlo import montecarlo as mc\n",
    "from HybridModel.hybrid_model import hybrid_model as hm\n",
    "from BlackScholes.black_scholes import optionPrice as bs"
   ]
  },
  {
   "cell_type": "code",
   "execution_count": 3,
   "id": "c52b9c85-1b68-40e6-a528-0fb49c5acd1f",
   "metadata": {},
   "outputs": [],
   "source": [
    "AMD_2019 = pd.read_csv(\"Data/AMD/AMD_2019.csv\")\n",
    "AMD_2020 = pd.read_csv(\"Data/AMD/AMD_2020.csv\")\n",
    "AMD_2021 = pd.read_csv(\"Data/AMD/AMD_2021.csv\")\n",
    "AMD_2022 = pd.read_csv(\"Data/AMD/AMD_2022.csv\")\n",
    "AMD_2023 = pd.read_csv(\"Data/AMD/AMD_2023.csv\")\n",
    "AMD_5_yrs = pd.concat([AMD_2019, AMD_2020, AMD_2021, AMD_2022, AMD_2023]).reset_index()\n",
    "AMD_3_yrs = pd.concat([AMD_2021, AMD_2022, AMD_2023]).reset_index() \n",
    "\n",
    "df = AMD_3_yrs # replace this with any of the defined dataframes above to use their data. (i.e. you could replace this with other stock data) We are just using AMD.\n",
    "# df = df[:209]"
   ]
  },
  {
   "cell_type": "markdown",
   "id": "1de976e9-5637-40cd-afca-7115a47c4840",
   "metadata": {},
   "source": [
    "### Calculate Volatility Off Historic Stock Prices"
   ]
  },
  {
   "cell_type": "code",
   "execution_count": 4,
   "id": "dec9df96-560e-41ca-b78c-ea76cb371d93",
   "metadata": {},
   "outputs": [
    {
     "data": {
      "text/html": [
       "<div>\n",
       "<style scoped>\n",
       "    .dataframe tbody tr th:only-of-type {\n",
       "        vertical-align: middle;\n",
       "    }\n",
       "\n",
       "    .dataframe tbody tr th {\n",
       "        vertical-align: top;\n",
       "    }\n",
       "\n",
       "    .dataframe thead th {\n",
       "        text-align: right;\n",
       "    }\n",
       "</style>\n",
       "<table border=\"1\" class=\"dataframe\">\n",
       "  <thead>\n",
       "    <tr style=\"text-align: right;\">\n",
       "      <th></th>\n",
       "      <th>date</th>\n",
       "      <th>open</th>\n",
       "      <th>close</th>\n",
       "      <th>high</th>\n",
       "      <th>low</th>\n",
       "    </tr>\n",
       "  </thead>\n",
       "  <tbody>\n",
       "    <tr>\n",
       "      <th>0</th>\n",
       "      <td>2019-01-02</td>\n",
       "      <td>18.05</td>\n",
       "      <td>18.82</td>\n",
       "      <td>19.00</td>\n",
       "      <td>17.98</td>\n",
       "    </tr>\n",
       "    <tr>\n",
       "      <th>1</th>\n",
       "      <td>2019-01-03</td>\n",
       "      <td>18.39</td>\n",
       "      <td>17.05</td>\n",
       "      <td>18.68</td>\n",
       "      <td>16.94</td>\n",
       "    </tr>\n",
       "    <tr>\n",
       "      <th>2</th>\n",
       "      <td>2019-01-04</td>\n",
       "      <td>17.57</td>\n",
       "      <td>19.00</td>\n",
       "      <td>19.07</td>\n",
       "      <td>17.43</td>\n",
       "    </tr>\n",
       "    <tr>\n",
       "      <th>3</th>\n",
       "      <td>2019-01-07</td>\n",
       "      <td>19.43</td>\n",
       "      <td>20.57</td>\n",
       "      <td>20.68</td>\n",
       "      <td>19.00</td>\n",
       "    </tr>\n",
       "    <tr>\n",
       "      <th>4</th>\n",
       "      <td>2019-01-08</td>\n",
       "      <td>21.18</td>\n",
       "      <td>20.75</td>\n",
       "      <td>21.19</td>\n",
       "      <td>19.68</td>\n",
       "    </tr>\n",
       "    <tr>\n",
       "      <th>...</th>\n",
       "      <td>...</td>\n",
       "      <td>...</td>\n",
       "      <td>...</td>\n",
       "      <td>...</td>\n",
       "      <td>...</td>\n",
       "    </tr>\n",
       "    <tr>\n",
       "      <th>1253</th>\n",
       "      <td>2023-12-22</td>\n",
       "      <td>140.44</td>\n",
       "      <td>139.62</td>\n",
       "      <td>140.68</td>\n",
       "      <td>138.31</td>\n",
       "    </tr>\n",
       "    <tr>\n",
       "      <th>1254</th>\n",
       "      <td>2023-12-26</td>\n",
       "      <td>139.99</td>\n",
       "      <td>143.44</td>\n",
       "      <td>143.85</td>\n",
       "      <td>139.92</td>\n",
       "    </tr>\n",
       "    <tr>\n",
       "      <th>1255</th>\n",
       "      <td>2023-12-27</td>\n",
       "      <td>144.74</td>\n",
       "      <td>146.13</td>\n",
       "      <td>146.25</td>\n",
       "      <td>143.17</td>\n",
       "    </tr>\n",
       "    <tr>\n",
       "      <th>1256</th>\n",
       "      <td>2023-12-28</td>\n",
       "      <td>146.76</td>\n",
       "      <td>148.75</td>\n",
       "      <td>150.41</td>\n",
       "      <td>145.95</td>\n",
       "    </tr>\n",
       "    <tr>\n",
       "      <th>1257</th>\n",
       "      <td>2023-12-29</td>\n",
       "      <td>149.50</td>\n",
       "      <td>147.43</td>\n",
       "      <td>151.05</td>\n",
       "      <td>147.20</td>\n",
       "    </tr>\n",
       "  </tbody>\n",
       "</table>\n",
       "<p>1258 rows × 5 columns</p>\n",
       "</div>"
      ],
      "text/plain": [
       "            date    open   close    high     low\n",
       "0     2019-01-02   18.05   18.82   19.00   17.98\n",
       "1     2019-01-03   18.39   17.05   18.68   16.94\n",
       "2     2019-01-04   17.57   19.00   19.07   17.43\n",
       "3     2019-01-07   19.43   20.57   20.68   19.00\n",
       "4     2019-01-08   21.18   20.75   21.19   19.68\n",
       "...          ...     ...     ...     ...     ...\n",
       "1253  2023-12-22  140.44  139.62  140.68  138.31\n",
       "1254  2023-12-26  139.99  143.44  143.85  139.92\n",
       "1255  2023-12-27  144.74  146.13  146.25  143.17\n",
       "1256  2023-12-28  146.76  148.75  150.41  145.95\n",
       "1257  2023-12-29  149.50  147.43  151.05  147.20\n",
       "\n",
       "[1258 rows x 5 columns]"
      ]
     },
     "metadata": {},
     "output_type": "display_data"
    }
   ],
   "source": [
    "if SHOW_INTERMEDIATE_DATA:\n",
    "    display(df[[\"date\", \"open\", \"close\", \"high\", \"low\"]])"
   ]
  },
  {
   "cell_type": "code",
   "execution_count": 5,
   "id": "a23f62fa-9fa7-461d-a5be-e4f2fbc4c344",
   "metadata": {},
   "outputs": [
    {
     "data": {
      "text/html": [
       "<div>\n",
       "<style scoped>\n",
       "    .dataframe tbody tr th:only-of-type {\n",
       "        vertical-align: middle;\n",
       "    }\n",
       "\n",
       "    .dataframe tbody tr th {\n",
       "        vertical-align: top;\n",
       "    }\n",
       "\n",
       "    .dataframe thead th {\n",
       "        text-align: right;\n",
       "    }\n",
       "</style>\n",
       "<table border=\"1\" class=\"dataframe\">\n",
       "  <thead>\n",
       "    <tr style=\"text-align: right;\">\n",
       "      <th></th>\n",
       "      <th>open</th>\n",
       "      <th>close</th>\n",
       "      <th>high</th>\n",
       "      <th>low</th>\n",
       "    </tr>\n",
       "  </thead>\n",
       "  <tbody>\n",
       "    <tr>\n",
       "      <th>0</th>\n",
       "      <td>NaN</td>\n",
       "      <td>NaN</td>\n",
       "      <td>NaN</td>\n",
       "      <td>NaN</td>\n",
       "    </tr>\n",
       "    <tr>\n",
       "      <th>1</th>\n",
       "      <td>0.018837</td>\n",
       "      <td>-0.094049</td>\n",
       "      <td>-0.016842</td>\n",
       "      <td>-0.057842</td>\n",
       "    </tr>\n",
       "    <tr>\n",
       "      <th>2</th>\n",
       "      <td>-0.044589</td>\n",
       "      <td>0.114370</td>\n",
       "      <td>0.020878</td>\n",
       "      <td>0.028926</td>\n",
       "    </tr>\n",
       "    <tr>\n",
       "      <th>3</th>\n",
       "      <td>0.105862</td>\n",
       "      <td>0.082632</td>\n",
       "      <td>0.084426</td>\n",
       "      <td>0.090075</td>\n",
       "    </tr>\n",
       "    <tr>\n",
       "      <th>4</th>\n",
       "      <td>0.090067</td>\n",
       "      <td>0.008751</td>\n",
       "      <td>0.024662</td>\n",
       "      <td>0.035789</td>\n",
       "    </tr>\n",
       "    <tr>\n",
       "      <th>...</th>\n",
       "      <td>...</td>\n",
       "      <td>...</td>\n",
       "      <td>...</td>\n",
       "      <td>...</td>\n",
       "    </tr>\n",
       "    <tr>\n",
       "      <th>1253</th>\n",
       "      <td>0.017313</td>\n",
       "      <td>-0.001787</td>\n",
       "      <td>0.005001</td>\n",
       "      <td>0.006770</td>\n",
       "    </tr>\n",
       "    <tr>\n",
       "      <th>1254</th>\n",
       "      <td>-0.003204</td>\n",
       "      <td>0.027360</td>\n",
       "      <td>0.022533</td>\n",
       "      <td>0.011641</td>\n",
       "    </tr>\n",
       "    <tr>\n",
       "      <th>1255</th>\n",
       "      <td>0.033931</td>\n",
       "      <td>0.018753</td>\n",
       "      <td>0.016684</td>\n",
       "      <td>0.023228</td>\n",
       "    </tr>\n",
       "    <tr>\n",
       "      <th>1256</th>\n",
       "      <td>0.013956</td>\n",
       "      <td>0.017929</td>\n",
       "      <td>0.028444</td>\n",
       "      <td>0.019417</td>\n",
       "    </tr>\n",
       "    <tr>\n",
       "      <th>1257</th>\n",
       "      <td>0.018670</td>\n",
       "      <td>-0.008874</td>\n",
       "      <td>0.004255</td>\n",
       "      <td>0.008565</td>\n",
       "    </tr>\n",
       "  </tbody>\n",
       "</table>\n",
       "<p>1258 rows × 4 columns</p>\n",
       "</div>"
      ],
      "text/plain": [
       "          open     close      high       low\n",
       "0          NaN       NaN       NaN       NaN\n",
       "1     0.018837 -0.094049 -0.016842 -0.057842\n",
       "2    -0.044589  0.114370  0.020878  0.028926\n",
       "3     0.105862  0.082632  0.084426  0.090075\n",
       "4     0.090067  0.008751  0.024662  0.035789\n",
       "...        ...       ...       ...       ...\n",
       "1253  0.017313 -0.001787  0.005001  0.006770\n",
       "1254 -0.003204  0.027360  0.022533  0.011641\n",
       "1255  0.033931  0.018753  0.016684  0.023228\n",
       "1256  0.013956  0.017929  0.028444  0.019417\n",
       "1257  0.018670 -0.008874  0.004255  0.008565\n",
       "\n",
       "[1258 rows x 4 columns]"
      ]
     },
     "metadata": {},
     "output_type": "display_data"
    },
    {
     "data": {
      "text/plain": [
       "open     0.523952\n",
       "close    0.537245\n",
       "high     0.459543\n",
       "low      0.465289\n",
       "dtype: float64"
      ]
     },
     "metadata": {},
     "output_type": "display_data"
    },
    {
     "name": "stdout",
     "output_type": "stream",
     "text": [
      "Calculated volatility: 0.5239519629740491\n",
      "Calculated drift: 0.5607745293243358\n"
     ]
    }
   ],
   "source": [
    "# This is a constant which will \"Anualize\" the volatility. there are around 252 trading days in a given year. \n",
    "#This is given by the space of a price interval, multiplied by how many intervals fit into the timespan we are converting the volatility to. \n",
    "#In this case interval = 1 day. 252 days fit into a year, which is what we want to convert the volatility to.\n",
    "N = np.sqrt(252) \n",
    "\n",
    "#Now we need to convert from the prices to the returns, day to day.\n",
    "percent_returns = df[[\"open\",\"close\", \"high\", \"low\"]].pct_change(1)\n",
    "volatility_table = percent_returns.std() * N\n",
    "\n",
    "if SHOW_INTERMEDIATE_DATA:\n",
    "    display(percent_returns)\n",
    "    display(volatility_table)\n",
    "\n",
    "#This step will set the volatility we will use for later calculations, not sure which is best. Just made this as an arbitrary choice to have something.\n",
    "volatility = volatility_table['open']\n",
    "print(f\"Calculated volatility: {volatility}\")\n",
    "\n",
    "drift_table = percent_returns.mean() * 252\n",
    "drift = drift_table['open']\n",
    "print(f\"Calculated drift: {drift}\")"
   ]
  },
  {
   "cell_type": "markdown",
   "id": "4ee5b874-2fe3-44c1-8bd6-9db30f56de57",
   "metadata": {},
   "source": [
    "### Define the other option parameters:"
   ]
  },
  {
   "cell_type": "code",
   "execution_count": 6,
   "id": "2aad2393-0898-49ad-a6b0-8952ffe44185",
   "metadata": {
    "scrolled": true
   },
   "outputs": [],
   "source": [
    "# This is the current risk free rate of the market. I took mine from https://ycharts.com/indicators/10_year_treasury_rate (the end of 2023). \n",
    "# Make sure to change this depending on the time you want to apply the model at.\n",
    "RISK_FREE_RATE = 0.0523\n",
    "\n",
    "# Next we have all of the specifics for the option we would like to price:\n",
    "\n",
    "# The strike price of the option, (in USD)\n",
    "STRIKE_PRICE = 220\n",
    "\n",
    "# The current price of the stock we would like to model.\n",
    "CURRENT_STOCK_PRICE = 211.38\n",
    "\n",
    "# Time until option expiry (make sure to stay consistent in units with volatility and risk_free_rate. In our case , we use days.\n",
    "TIME_TILL_EXPIRY = 25"
   ]
  },
  {
   "cell_type": "markdown",
   "id": "76552ac4-c3ab-44b8-9dd9-2505ccc16fc0",
   "metadata": {},
   "source": [
    "### Calculate the option price(s):"
   ]
  },
  {
   "cell_type": "code",
   "execution_count": 7,
   "id": "290d2ed6-01c2-433c-9d3f-bb71ed158180",
   "metadata": {},
   "outputs": [
    {
     "name": "stdout",
     "output_type": "stream",
     "text": [
      "\n",
      "Estimated option prices:\n",
      "Monte Carlo: $220.0657309753098\n",
      "Black Scholes: $-28.483437582551147\n",
      "\n"
     ]
    }
   ],
   "source": [
    "# This will use the montecarlo and blackscholes libraries we have built to return the expected stock price of an option with the parameters defined above.\n",
    "# Will assume that it is a call option.\n",
    "print(f\"\"\"\n",
    "Estimated option prices:\n",
    "Monte Carlo: ${mc(138.56, STRIKE_PRICE, TIME_TILL_EXPIRY/252, RISK_FREE_RATE, volatility, drift, timeSteps=1000, simulations=100000) + STRIKE_PRICE}\n",
    "Black Scholes: ${bs(CURRENT_STOCK_PRICE, STRIKE_PRICE, RISK_FREE_RATE, volatility, TIME_TILL_EXPIRY) - STRIKE_PRICE}\n",
    "\"\"\")"
   ]
  },
  {
   "cell_type": "markdown",
   "id": "62aa4f85-59f1-4684-b851-9496d730cc64",
   "metadata": {},
   "source": [
    "## Using our fancier Monte Carlo:(broken, probably shouldn't use)"
   ]
  },
  {
   "cell_type": "code",
   "execution_count": 42,
   "id": "ff0f651a-e5db-45c4-b8b9-b1db2bb95d1f",
   "metadata": {},
   "outputs": [
    {
     "data": {
      "text/plain": [
       "array([-0.09404888])"
      ]
     },
     "execution_count": 42,
     "metadata": {},
     "output_type": "execute_result"
    }
   ],
   "source": [
    "sample_returns = percent_returns[\"close\"].to_numpy()[1:] # 1st number will alays be NaN"
   ]
  },
  {
   "cell_type": "code",
   "execution_count": 9,
   "id": "e88a1e5a-9f56-4258-ac00-496a512af8fc",
   "metadata": {},
   "outputs": [],
   "source": [
    "# hm(CURRENT_STOCK_PRICE, RISK_FREE_RATE,41 ,sample_returns, timeSteps=5000, simulations=10000)"
   ]
  },
  {
   "cell_type": "code",
   "execution_count": 10,
   "id": "dc5165df-5759-439c-98e4-a5fe67500245",
   "metadata": {},
   "outputs": [
    {
     "name": "stdout",
     "output_type": "stream",
     "text": [
      "Timestep 0 completed\n",
      "Timestep 100 completed\n",
      "Timestep 200 completed\n",
      "Timestep 300 completed\n",
      "Timestep 400 completed\n",
      "Timestep 500 completed\n",
      "Timestep 600 completed\n",
      "Timestep 700 completed\n",
      "Timestep 800 completed\n",
      "Timestep 900 completed\n"
     ]
    },
    {
     "data": {
      "text/plain": [
       "(168.89510765624973, 190.50577260224296, 126.46545780811832)"
      ]
     },
     "execution_count": 10,
     "metadata": {},
     "output_type": "execute_result"
    }
   ],
   "source": [
    "# hm(138.56, RISK_FREE_RATE, 41,sample_returns, timeSteps = 1000, simulations=50000)\n"
   ]
  },
  {
   "cell_type": "markdown",
   "id": "d6c699f6-d79a-4057-b61b-d7a5c8b2dbe0",
   "metadata": {},
   "source": [
    "## Heston Model"
   ]
  },
  {
   "cell_type": "markdown",
   "id": "f5dedfa4-a374-450e-926c-e35c9eaea356",
   "metadata": {},
   "source": [
    "Find correlation coefficient between asset return and volatility:"
   ]
  },
  {
   "cell_type": "code",
   "execution_count": 100,
   "id": "ccb55c2d-cc7f-4dec-9e6a-5509f02fe506",
   "metadata": {},
   "outputs": [
    {
     "name": "stdout",
     "output_type": "stream",
     "text": [
      "Correlation coefficient: 0.026284351854126517\n",
      "With no \"historic\" data: 0.09583035376904195\n"
     ]
    }
   ],
   "source": [
    "historical_returns = pd.concat([AMD_2019, AMD_2020]).reset_index()\n",
    "historical_returns = historical_returns[\"close\"].pct_change(1)[1:].to_numpy()\n",
    "\n",
    "walking_volatility = np.vectorize(lambda n: np.concatenate([ historical_returns, sample_returns[:n] ],axis=0).std() * N)\n",
    "sample_volatilities = np.fromfunction(walking_volatility, sample_returns.shape, dtype=int)\n",
    "corr_coef = np.corrcoef(sample_volatilities, sample_returns)[0,1]\n",
    "\n",
    "walking_vol_no_hist = np.vectorize(lambda n: sample_returns[:n+1].std() * N)\n",
    "sample_no_hist_volatilities = np.fromfunction(walking_vol_no_hist, sample_returns.shape, dtype=int)\n",
    "no_hist_corr = np.corrcoef(sample_no_hist_volatilities, sample_returns)[0,1]\n",
    "\n",
    "print(f\"Correlation coefficient: {corr_coef}\")\n",
    "print(f\"With no \\\"historic\\\" data: {no_hist_corr}\")\n",
    "# sample_volatilities = #"
   ]
  },
  {
   "cell_type": "markdown",
   "id": "f9e3c020-75f1-497a-9661-d32f7442b319",
   "metadata": {},
   "source": [
    "Find volatility of volatility: "
   ]
  },
  {
   "cell_type": "code",
   "execution_count": 104,
   "id": "f54f0703-c4f2-414a-9c2e-0a14e00942b7",
   "metadata": {},
   "outputs": [
    {
     "name": "stdout",
     "output_type": "stream",
     "text": [
      "With historic data 0.014073697319694918\n",
      "Without: 0.08548390178333708\n"
     ]
    }
   ],
   "source": [
    "print(f\"With historic data {sample_volatilities.std()}\")\n",
    "print(f\"Without: {sample_no_hist_volatilities.std()}\")"
   ]
  }
 ],
 "metadata": {
  "kernelspec": {
   "display_name": "Python 3 (ipykernel)",
   "language": "python",
   "name": "python3"
  },
  "language_info": {
   "codemirror_mode": {
    "name": "ipython",
    "version": 3
   },
   "file_extension": ".py",
   "mimetype": "text/x-python",
   "name": "python",
   "nbconvert_exporter": "python",
   "pygments_lexer": "ipython3",
   "version": "3.11.8"
  }
 },
 "nbformat": 4,
 "nbformat_minor": 5
}
