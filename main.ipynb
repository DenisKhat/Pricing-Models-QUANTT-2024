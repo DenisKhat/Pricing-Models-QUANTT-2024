{
 "cells": [
  {
   "cell_type": "markdown",
   "id": "11373f01-d42b-417e-b764-a7dfec0b6c39",
   "metadata": {},
   "source": [
    "# Presentation Notebook"
   ]
  },
  {
   "cell_type": "markdown",
   "id": "2e731978-4570-4197-9469-be61154e66af",
   "metadata": {},
   "source": [
    "This notebook is meant to be used as the main \"put it all together\" notebook which we can use to present the models we have worked on."
   ]
  },
  {
   "cell_type": "code",
   "execution_count": 1,
   "id": "feb9fdd8-56d9-4c3c-ab81-697ee0dd8f45",
   "metadata": {},
   "outputs": [],
   "source": [
    "SHOW_INTERMEDIATE_DATA = False # set this option if you want to display the data at each step, not just the final result."
   ]
  },
  {
   "cell_type": "markdown",
   "id": "18fbd645-76b1-41e4-812c-44474cb35038",
   "metadata": {},
   "source": [
    "### Setup: import libraries and files"
   ]
  },
  {
   "cell_type": "code",
   "execution_count": 2,
   "id": "0df876b9-710a-4ed2-98c3-1a4b7ab78879",
   "metadata": {},
   "outputs": [],
   "source": [
    "import pandas as pd\n",
    "import numpy as np\n",
    "from MonteCarlo.monte_carlo import montecarlo as mc\n",
    "from BlackScholes.black_scholes import optionPrice as bs"
   ]
  },
  {
   "cell_type": "code",
   "execution_count": 3,
   "id": "c52b9c85-1b68-40e6-a528-0fb49c5acd1f",
   "metadata": {},
   "outputs": [],
   "source": [
    "AMD_2019 = pd.read_csv(\"Data/AMD/AMD_2019.csv\")\n",
    "AMD_2020 = pd.read_csv(\"Data/AMD/AMD_2020.csv\")\n",
    "AMD_2021 = pd.read_csv(\"Data/AMD/AMD_2021.csv\")\n",
    "AMD_2022 = pd.read_csv(\"Data/AMD/AMD_2022.csv\")\n",
    "AMD_2023 = pd.read_csv(\"Data/AMD/AMD_2023.csv\")\n",
    "AMD_5_yrs = pd.concat([AMD_2019, AMD_2020, AMD_2021, AMD_2022, AMD_2023]).reset_index()\n",
    "AMD_3_yrs = pd.concat([AMD_2021, AMD_2022, AMD_2023]).reset_index() \n",
    "\n",
    "df = AMD_3_yrs.copy() # replace this with any of the defined dataframes above to use their data. (i.e. you could replace this with other stock data) We are just using AMD."
   ]
  },
  {
   "cell_type": "markdown",
   "id": "1de976e9-5637-40cd-afca-7115a47c4840",
   "metadata": {},
   "source": [
    "### Calculate Volatility Off Historic Stock Prices"
   ]
  },
  {
   "cell_type": "code",
   "execution_count": 4,
   "id": "dec9df96-560e-41ca-b78c-ea76cb371d93",
   "metadata": {},
   "outputs": [],
   "source": [
    "if SHOW_INTERMEDIATE_DATA:\n",
    "    display(df[[\"date\", \"open\", \"close\", \"high\", \"low\"]])"
   ]
  },
  {
   "cell_type": "code",
   "execution_count": 5,
   "id": "a23f62fa-9fa7-461d-a5be-e4f2fbc4c344",
   "metadata": {},
   "outputs": [
    {
     "name": "stdout",
     "output_type": "stream",
     "text": [
      "Calculated volatility: 0.5120293039206385\n",
      "Calculated drift: 0.29289194340328806\n"
     ]
    }
   ],
   "source": [
    "# This is a constant which will \"Anualize\" the volatility. there are around 252 trading days in a given year. \n",
    "#This is given by the space of a price interval, multiplied by how many intervals fit into the timespan we are converting the volatility to. \n",
    "#In this case interval = 1 day. 252 days fit into a year, which is what we want to convert the volatility to.\n",
    "N = np.sqrt(252) \n",
    "\n",
    "#Now we need to convert from the prices to the returns, day to day.\n",
    "percent_returns = df[[\"open\",\"close\", \"high\", \"low\"]].pct_change(1)\n",
    "volatility_table = percent_returns.std() * N\n",
    "\n",
    "if SHOW_INTERMEDIATE_DATA:\n",
    "    display(percent_returns)\n",
    "    display(volatility_table)\n",
    "\n",
    "#This step will set the volatility we will use for later calculations, not sure which is best. Just made this as an arbitrary choice to have something.\n",
    "volatility = volatility_table['open']\n",
    "print(f\"Calculated volatility: {volatility}\")\n",
    "\n",
    "drift_table = percent_returns.mean() * 252\n",
    "drift = drift_table['open']\n",
    "print(f\"Calculated drift: {drift}\")"
   ]
  },
  {
   "cell_type": "markdown",
   "id": "4ee5b874-2fe3-44c1-8bd6-9db30f56de57",
   "metadata": {},
   "source": [
    "### Define the other option parameters:"
   ]
  },
  {
   "cell_type": "code",
   "execution_count": 6,
   "id": "2aad2393-0898-49ad-a6b0-8952ffe44185",
   "metadata": {
    "scrolled": true
   },
   "outputs": [],
   "source": [
    "# This is the current risk free rate of the market. I took mine from https://ycharts.com/indicators/10_year_treasury_rate (the end of 2023). \n",
    "# Make sure to change this depending on the time you want to apply the model at.\n",
    "RISK_FREE_RATE = 0.0523\n",
    "\n",
    "# Next we have all of the specifics for the option we would like to price:\n",
    "\n",
    "# The strike price of the option, (in USD)\n",
    "STRIKE_PRICE = 220\n",
    "\n",
    "# The current price of the stock we would like to model.\n",
    "CURRENT_STOCK_PRICE = 211.38\n",
    "\n",
    "# Time until option expiry (make sure to stay consistent in units with volatility and risk_free_rate. In our case , we use days.\n",
    "TIME_TILL_EXPIRY = 25"
   ]
  },
  {
   "cell_type": "markdown",
   "id": "76552ac4-c3ab-44b8-9dd9-2505ccc16fc0",
   "metadata": {},
   "source": [
    "### Calculate the option price(s):"
   ]
  },
  {
   "cell_type": "code",
   "execution_count": 16,
   "id": "290d2ed6-01c2-433c-9d3f-bb71ed158180",
   "metadata": {},
   "outputs": [
    {
     "name": "stdout",
     "output_type": "stream",
     "text": [
      "\n",
      "Estimated option prices:\n",
      "Monte Carlo: $12.77778129539888\n",
      "Black Scholes: $-29.50653058521837\n",
      "\n"
     ]
    }
   ],
   "source": [
    "# This will use the montecarlo and blackscholes libraries we have built to return the expected stock price of an option with the parameters defined above.\n",
    "# Will assume that it is a call option.\n",
    "print(f\"\"\"\n",
    "Estimated option prices:\n",
    "Monte Carlo: ${mc(CURRENT_STOCK_PRICE, STRIKE_PRICE, TIME_TILL_EXPIRY/252, RISK_FREE_RATE, volatility, drift, timeSteps=1000, simulations=100000)}\n",
    "Black Scholes: ${bs(CURRENT_STOCK_PRICE, STRIKE_PRICE, RISK_FREE_RATE, volatility, TIME_TILL_EXPIRY) - STRIKE_PRICE}\n",
    "\"\"\")"
   ]
  },
  {
   "cell_type": "markdown",
   "id": "62aa4f85-59f1-4684-b851-9496d730cc64",
   "metadata": {},
   "source": [
    "## Using our fancier Monte Carlo:"
   ]
  },
  {
   "cell_type": "code",
   "execution_count": 14,
   "id": "ff0f651a-e5db-45c4-b8b9-b1db2bb95d1f",
   "metadata": {},
   "outputs": [],
   "source": [
    "sample_returns = percent_returns[\"open\"].to_numpy()[1:] # 1st number will alays be NaN\n",
    "from MonteCarlo.monte_carlo import montecarlo_rolling as mc_new\n"
   ]
  },
  {
   "cell_type": "code",
   "execution_count": 17,
   "id": "e88a1e5a-9f56-4258-ac00-496a512af8fc",
   "metadata": {},
   "outputs": [
    {
     "name": "stdout",
     "output_type": "stream",
     "text": [
      "(752, 100000)\n"
     ]
    },
    {
     "data": {
      "text/plain": [
       "13.071541900576632"
      ]
     },
     "execution_count": 17,
     "metadata": {},
     "output_type": "execute_result"
    }
   ],
   "source": [
    "mc_new(CURRENT_STOCK_PRICE, STRIKE_PRICE, RISK_FREE_RATE, sample_returns, timeSteps=25, simulations=100000)"
   ]
  },
  {
   "cell_type": "code",
   "execution_count": null,
   "id": "dc5165df-5759-439c-98e4-a5fe67500245",
   "metadata": {},
   "outputs": [],
   "source": []
  }
 ],
 "metadata": {
  "kernelspec": {
   "display_name": "Python 3 (ipykernel)",
   "language": "python",
   "name": "python3"
  },
  "language_info": {
   "codemirror_mode": {
    "name": "ipython",
    "version": 3
   },
   "file_extension": ".py",
   "mimetype": "text/x-python",
   "name": "python",
   "nbconvert_exporter": "python",
   "pygments_lexer": "ipython3",
   "version": "3.11.8"
  }
 },
 "nbformat": 4,
 "nbformat_minor": 5
}
