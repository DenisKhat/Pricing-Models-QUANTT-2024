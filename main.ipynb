{
 "cells": [
  {
   "cell_type": "markdown",
   "id": "11373f01-d42b-417e-b764-a7dfec0b6c39",
   "metadata": {},
   "source": [
    "# Presentation Notebook"
   ]
  },
  {
   "cell_type": "markdown",
   "id": "2e731978-4570-4197-9469-be61154e66af",
   "metadata": {},
   "source": [
    "This notebook is meant to be used as the main \"put it all together\" notebook which we can use to present the models we have worked on."
   ]
  },
  {
   "cell_type": "code",
   "execution_count": 1,
   "id": "feb9fdd8-56d9-4c3c-ab81-697ee0dd8f45",
   "metadata": {},
   "outputs": [],
   "source": [
    "SHOW_INTERMEDIATE_DATA = True # set this option if you want to display the data at each step, not just the final result."
   ]
  },
  {
   "cell_type": "markdown",
   "id": "18fbd645-76b1-41e4-812c-44474cb35038",
   "metadata": {},
   "source": [
    "### Setup: import libraries and files"
   ]
  },
  {
   "cell_type": "code",
   "execution_count": 2,
   "id": "0df876b9-710a-4ed2-98c3-1a4b7ab78879",
   "metadata": {},
   "outputs": [],
   "source": [
    "import pandas as pd\n",
    "import numpy as np\n",
    "from HybridModel.test2 import heston_option_price as heston\n",
    "from MonteCarlo.monte_carlo import montecarlo as mc\n",
    "from HybridModel.hybrid_model import hybrid_model as hm\n",
    "from BlackScholes.black_scholes import optionPrice as bs"
   ]
  },
  {
   "cell_type": "code",
   "execution_count": 3,
   "id": "c52b9c85-1b68-40e6-a528-0fb49c5acd1f",
   "metadata": {},
   "outputs": [],
   "source": [
    "AMD_2019 = pd.read_csv(\"Data/AMD/AMD_2019.csv\")\n",
    "AMD_2020 = pd.read_csv(\"Data/AMD/AMD_2020.csv\")\n",
    "AMD_2021 = pd.read_csv(\"Data/AMD/AMD_2021.csv\")\n",
    "AMD_2022 = pd.read_csv(\"Data/AMD/AMD_2022.csv\")\n",
    "AMD_2023 = pd.read_csv(\"Data/AMD/AMD_2023.csv\")\n",
    "AMD_5_yrs = pd.concat([AMD_2019, AMD_2020, AMD_2021, AMD_2022, AMD_2023]).reset_index()\n",
    "AMD_3_yrs = pd.concat([AMD_2021, AMD_2022, AMD_2023]).reset_index() \n",
    "\n",
    "df = AMD_3_yrs # replace this with any of the defined dataframes above to use their data. (i.e. you could replace this with other stock data) We are just using AMD.\n",
    "# df = df[:209]"
   ]
  },
  {
   "cell_type": "markdown",
   "id": "1de976e9-5637-40cd-afca-7115a47c4840",
   "metadata": {
    "jp-MarkdownHeadingCollapsed": true
   },
   "source": [
    "### Calculate Volatility Off Historic Stock Prices"
   ]
  },
  {
   "cell_type": "code",
   "execution_count": 4,
   "id": "dec9df96-560e-41ca-b78c-ea76cb371d93",
   "metadata": {},
   "outputs": [
    {
     "data": {
      "text/html": [
       "<div>\n",
       "<style scoped>\n",
       "    .dataframe tbody tr th:only-of-type {\n",
       "        vertical-align: middle;\n",
       "    }\n",
       "\n",
       "    .dataframe tbody tr th {\n",
       "        vertical-align: top;\n",
       "    }\n",
       "\n",
       "    .dataframe thead th {\n",
       "        text-align: right;\n",
       "    }\n",
       "</style>\n",
       "<table border=\"1\" class=\"dataframe\">\n",
       "  <thead>\n",
       "    <tr style=\"text-align: right;\">\n",
       "      <th></th>\n",
       "      <th>date</th>\n",
       "      <th>open</th>\n",
       "      <th>close</th>\n",
       "      <th>high</th>\n",
       "      <th>low</th>\n",
       "    </tr>\n",
       "  </thead>\n",
       "  <tbody>\n",
       "    <tr>\n",
       "      <th>0</th>\n",
       "      <td>2021-01-04</td>\n",
       "      <td>92.13</td>\n",
       "      <td>92.28</td>\n",
       "      <td>96.06</td>\n",
       "      <td>90.91</td>\n",
       "    </tr>\n",
       "    <tr>\n",
       "      <th>1</th>\n",
       "      <td>2021-01-05</td>\n",
       "      <td>92.13</td>\n",
       "      <td>92.77</td>\n",
       "      <td>93.21</td>\n",
       "      <td>91.41</td>\n",
       "    </tr>\n",
       "    <tr>\n",
       "      <th>2</th>\n",
       "      <td>2021-01-06</td>\n",
       "      <td>91.61</td>\n",
       "      <td>90.33</td>\n",
       "      <td>92.28</td>\n",
       "      <td>89.46</td>\n",
       "    </tr>\n",
       "    <tr>\n",
       "      <th>3</th>\n",
       "      <td>2021-01-07</td>\n",
       "      <td>91.36</td>\n",
       "      <td>95.09</td>\n",
       "      <td>95.51</td>\n",
       "      <td>91.20</td>\n",
       "    </tr>\n",
       "    <tr>\n",
       "      <th>4</th>\n",
       "      <td>2021-01-08</td>\n",
       "      <td>95.99</td>\n",
       "      <td>94.57</td>\n",
       "      <td>96.40</td>\n",
       "      <td>93.27</td>\n",
       "    </tr>\n",
       "    <tr>\n",
       "      <th>...</th>\n",
       "      <td>...</td>\n",
       "      <td>...</td>\n",
       "      <td>...</td>\n",
       "      <td>...</td>\n",
       "      <td>...</td>\n",
       "    </tr>\n",
       "    <tr>\n",
       "      <th>748</th>\n",
       "      <td>2023-12-22</td>\n",
       "      <td>140.44</td>\n",
       "      <td>139.62</td>\n",
       "      <td>140.68</td>\n",
       "      <td>138.31</td>\n",
       "    </tr>\n",
       "    <tr>\n",
       "      <th>749</th>\n",
       "      <td>2023-12-26</td>\n",
       "      <td>139.99</td>\n",
       "      <td>143.44</td>\n",
       "      <td>143.85</td>\n",
       "      <td>139.92</td>\n",
       "    </tr>\n",
       "    <tr>\n",
       "      <th>750</th>\n",
       "      <td>2023-12-27</td>\n",
       "      <td>144.74</td>\n",
       "      <td>146.13</td>\n",
       "      <td>146.25</td>\n",
       "      <td>143.17</td>\n",
       "    </tr>\n",
       "    <tr>\n",
       "      <th>751</th>\n",
       "      <td>2023-12-28</td>\n",
       "      <td>146.76</td>\n",
       "      <td>148.75</td>\n",
       "      <td>150.41</td>\n",
       "      <td>145.95</td>\n",
       "    </tr>\n",
       "    <tr>\n",
       "      <th>752</th>\n",
       "      <td>2023-12-29</td>\n",
       "      <td>149.50</td>\n",
       "      <td>147.43</td>\n",
       "      <td>151.05</td>\n",
       "      <td>147.20</td>\n",
       "    </tr>\n",
       "  </tbody>\n",
       "</table>\n",
       "<p>753 rows × 5 columns</p>\n",
       "</div>"
      ],
      "text/plain": [
       "           date    open   close    high     low\n",
       "0    2021-01-04   92.13   92.28   96.06   90.91\n",
       "1    2021-01-05   92.13   92.77   93.21   91.41\n",
       "2    2021-01-06   91.61   90.33   92.28   89.46\n",
       "3    2021-01-07   91.36   95.09   95.51   91.20\n",
       "4    2021-01-08   95.99   94.57   96.40   93.27\n",
       "..          ...     ...     ...     ...     ...\n",
       "748  2023-12-22  140.44  139.62  140.68  138.31\n",
       "749  2023-12-26  139.99  143.44  143.85  139.92\n",
       "750  2023-12-27  144.74  146.13  146.25  143.17\n",
       "751  2023-12-28  146.76  148.75  150.41  145.95\n",
       "752  2023-12-29  149.50  147.43  151.05  147.20\n",
       "\n",
       "[753 rows x 5 columns]"
      ]
     },
     "metadata": {},
     "output_type": "display_data"
    }
   ],
   "source": [
    "if SHOW_INTERMEDIATE_DATA:\n",
    "    display(df[[\"date\", \"open\", \"close\", \"high\", \"low\"]])"
   ]
  },
  {
   "cell_type": "code",
   "execution_count": 5,
   "id": "a23f62fa-9fa7-461d-a5be-e4f2fbc4c344",
   "metadata": {},
   "outputs": [
    {
     "data": {
      "text/html": [
       "<div>\n",
       "<style scoped>\n",
       "    .dataframe tbody tr th:only-of-type {\n",
       "        vertical-align: middle;\n",
       "    }\n",
       "\n",
       "    .dataframe tbody tr th {\n",
       "        vertical-align: top;\n",
       "    }\n",
       "\n",
       "    .dataframe thead th {\n",
       "        text-align: right;\n",
       "    }\n",
       "</style>\n",
       "<table border=\"1\" class=\"dataframe\">\n",
       "  <thead>\n",
       "    <tr style=\"text-align: right;\">\n",
       "      <th></th>\n",
       "      <th>open</th>\n",
       "      <th>close</th>\n",
       "      <th>high</th>\n",
       "      <th>low</th>\n",
       "    </tr>\n",
       "  </thead>\n",
       "  <tbody>\n",
       "    <tr>\n",
       "      <th>0</th>\n",
       "      <td>NaN</td>\n",
       "      <td>NaN</td>\n",
       "      <td>NaN</td>\n",
       "      <td>NaN</td>\n",
       "    </tr>\n",
       "    <tr>\n",
       "      <th>1</th>\n",
       "      <td>0.000000</td>\n",
       "      <td>0.005310</td>\n",
       "      <td>-0.029669</td>\n",
       "      <td>0.005500</td>\n",
       "    </tr>\n",
       "    <tr>\n",
       "      <th>2</th>\n",
       "      <td>-0.005644</td>\n",
       "      <td>-0.026302</td>\n",
       "      <td>-0.009977</td>\n",
       "      <td>-0.021332</td>\n",
       "    </tr>\n",
       "    <tr>\n",
       "      <th>3</th>\n",
       "      <td>-0.002729</td>\n",
       "      <td>0.052696</td>\n",
       "      <td>0.035002</td>\n",
       "      <td>0.019450</td>\n",
       "    </tr>\n",
       "    <tr>\n",
       "      <th>4</th>\n",
       "      <td>0.050679</td>\n",
       "      <td>-0.005469</td>\n",
       "      <td>0.009318</td>\n",
       "      <td>0.022697</td>\n",
       "    </tr>\n",
       "    <tr>\n",
       "      <th>...</th>\n",
       "      <td>...</td>\n",
       "      <td>...</td>\n",
       "      <td>...</td>\n",
       "      <td>...</td>\n",
       "    </tr>\n",
       "    <tr>\n",
       "      <th>748</th>\n",
       "      <td>0.017313</td>\n",
       "      <td>-0.001787</td>\n",
       "      <td>0.005001</td>\n",
       "      <td>0.006770</td>\n",
       "    </tr>\n",
       "    <tr>\n",
       "      <th>749</th>\n",
       "      <td>-0.003204</td>\n",
       "      <td>0.027360</td>\n",
       "      <td>0.022533</td>\n",
       "      <td>0.011641</td>\n",
       "    </tr>\n",
       "    <tr>\n",
       "      <th>750</th>\n",
       "      <td>0.033931</td>\n",
       "      <td>0.018753</td>\n",
       "      <td>0.016684</td>\n",
       "      <td>0.023228</td>\n",
       "    </tr>\n",
       "    <tr>\n",
       "      <th>751</th>\n",
       "      <td>0.013956</td>\n",
       "      <td>0.017929</td>\n",
       "      <td>0.028444</td>\n",
       "      <td>0.019417</td>\n",
       "    </tr>\n",
       "    <tr>\n",
       "      <th>752</th>\n",
       "      <td>0.018670</td>\n",
       "      <td>-0.008874</td>\n",
       "      <td>0.004255</td>\n",
       "      <td>0.008565</td>\n",
       "    </tr>\n",
       "  </tbody>\n",
       "</table>\n",
       "<p>753 rows × 4 columns</p>\n",
       "</div>"
      ],
      "text/plain": [
       "         open     close      high       low\n",
       "0         NaN       NaN       NaN       NaN\n",
       "1    0.000000  0.005310 -0.029669  0.005500\n",
       "2   -0.005644 -0.026302 -0.009977 -0.021332\n",
       "3   -0.002729  0.052696  0.035002  0.019450\n",
       "4    0.050679 -0.005469  0.009318  0.022697\n",
       "..        ...       ...       ...       ...\n",
       "748  0.017313 -0.001787  0.005001  0.006770\n",
       "749 -0.003204  0.027360  0.022533  0.011641\n",
       "750  0.033931  0.018753  0.016684  0.023228\n",
       "751  0.013956  0.017929  0.028444  0.019417\n",
       "752  0.018670 -0.008874  0.004255  0.008565\n",
       "\n",
       "[753 rows x 4 columns]"
      ]
     },
     "metadata": {},
     "output_type": "display_data"
    },
    {
     "data": {
      "text/plain": [
       "open     0.512029\n",
       "close    0.509711\n",
       "high     0.451890\n",
       "low      0.452472\n",
       "dtype: float64"
      ]
     },
     "metadata": {},
     "output_type": "display_data"
    },
    {
     "name": "stdout",
     "output_type": "stream",
     "text": [
      "Calculated volatility: 0.5120293039206385\n",
      "Calculated drift: 0.29289194340328806\n"
     ]
    }
   ],
   "source": [
    "# This is a constant which will \"Anualize\" the volatility. there are around 252 trading days in a given year. \n",
    "#This is given by the space of a price interval, multiplied by how many intervals fit into the timespan we are converting the volatility to. \n",
    "#In this case interval = 1 day. 252 days fit into a year, which is what we want to convert the volatility to.\n",
    "N = np.sqrt(252) \n",
    "\n",
    "#Now we need to convert from the prices to the returns, day to day.\n",
    "percent_returns = df[[\"open\",\"close\", \"high\", \"low\"]].pct_change(1)\n",
    "volatility_table = percent_returns.std() * N\n",
    "\n",
    "if SHOW_INTERMEDIATE_DATA:\n",
    "    display(percent_returns)\n",
    "    display(volatility_table)\n",
    "\n",
    "#This step will set the volatility we will use for later calculations, not sure which is best. Just made this as an arbitrary choice to have something.\n",
    "volatility = volatility_table['open']\n",
    "print(f\"Calculated volatility: {volatility}\")\n",
    "\n",
    "drift_table = percent_returns.mean() * 252\n",
    "drift = drift_table['open']\n",
    "print(f\"Calculated drift: {drift}\")"
   ]
  },
  {
   "cell_type": "markdown",
   "id": "4ee5b874-2fe3-44c1-8bd6-9db30f56de57",
   "metadata": {
    "jp-MarkdownHeadingCollapsed": true
   },
   "source": [
    "### Define the other option parameters:"
   ]
  },
  {
   "cell_type": "code",
   "execution_count": 6,
   "id": "2aad2393-0898-49ad-a6b0-8952ffe44185",
   "metadata": {
    "scrolled": true
   },
   "outputs": [],
   "source": [
    "# This is the current risk free rate of the market. I took mine from https://ycharts.com/indicators/10_year_treasury_rate (the end of 2023). \n",
    "# Make sure to change this depending on the time you want to apply the model at.\n",
    "RISK_FREE_RATE = 0.0523\n",
    "\n",
    "# Next we have all of the specifics for the option we would like to price:\n",
    "\n",
    "# The strike price of the option, (in USD)\n",
    "STRIKE_PRICE = 220\n",
    "\n",
    "# The current price of the stock we would like to model.\n",
    "CURRENT_STOCK_PRICE = 211.38\n",
    "\n",
    "# Time until option expiry (make sure to stay consistent in units with volatility and risk_free_rate. In our case , we use days.\n",
    "TIME_TILL_EXPIRY = 25"
   ]
  },
  {
   "cell_type": "markdown",
   "id": "76552ac4-c3ab-44b8-9dd9-2505ccc16fc0",
   "metadata": {},
   "source": [
    "### Calculate the option price(s):"
   ]
  },
  {
   "cell_type": "code",
   "execution_count": 7,
   "id": "290d2ed6-01c2-433c-9d3f-bb71ed158180",
   "metadata": {},
   "outputs": [
    {
     "name": "stdout",
     "output_type": "stream",
     "text": [
      "\n",
      "Estimated option prices:\n",
      "Monte Carlo: $220.0340584654966\n",
      "Black Scholes: $-29.50653058521837\n",
      "\n"
     ]
    }
   ],
   "source": [
    "# This will use the montecarlo and blackscholes libraries we have built to return the expected stock price of an option with the parameters defined above.\n",
    "# Will assume that it is a call option.\n",
    "print(f\"\"\"\n",
    "Estimated option prices:\n",
    "Monte Carlo: ${mc(138.56, STRIKE_PRICE, TIME_TILL_EXPIRY/252, RISK_FREE_RATE, volatility, drift, timeSteps=1000, simulations=100000) + STRIKE_PRICE}\n",
    "Black Scholes: ${bs(CURRENT_STOCK_PRICE, STRIKE_PRICE, RISK_FREE_RATE, volatility, TIME_TILL_EXPIRY) - STRIKE_PRICE}\n",
    "\"\"\")"
   ]
  },
  {
   "cell_type": "markdown",
   "id": "62aa4f85-59f1-4684-b851-9496d730cc64",
   "metadata": {},
   "source": [
    "## Using our fancier Monte Carlo:(broken, probably shouldn't use)"
   ]
  },
  {
   "cell_type": "code",
   "execution_count": 8,
   "id": "ff0f651a-e5db-45c4-b8b9-b1db2bb95d1f",
   "metadata": {},
   "outputs": [],
   "source": [
    "sample_returns = percent_returns[\"close\"].to_numpy()[1:] # 1st number will alays be NaN"
   ]
  },
  {
   "cell_type": "code",
   "execution_count": 9,
   "id": "e88a1e5a-9f56-4258-ac00-496a512af8fc",
   "metadata": {},
   "outputs": [],
   "source": [
    "# hm(CURRENT_STOCK_PRICE, RISK_FREE_RATE,41 ,sample_returns, timeSteps=5000, simulations=10000)"
   ]
  },
  {
   "cell_type": "code",
   "execution_count": 10,
   "id": "dc5165df-5759-439c-98e4-a5fe67500245",
   "metadata": {},
   "outputs": [],
   "source": [
    "# hm(138.56, RISK_FREE_RATE, 41,sample_returns, timeSteps = 1000, simulations=50000)\n"
   ]
  },
  {
   "cell_type": "markdown",
   "id": "d6c699f6-d79a-4057-b61b-d7a5c8b2dbe0",
   "metadata": {},
   "source": [
    "## Heston Model"
   ]
  },
  {
   "cell_type": "markdown",
   "id": "f5dedfa4-a374-450e-926c-e35c9eaea356",
   "metadata": {},
   "source": [
    "Find correlation coefficient between asset return and volatility:"
   ]
  },
  {
   "cell_type": "code",
   "execution_count": 11,
   "id": "ccb55c2d-cc7f-4dec-9e6a-5509f02fe506",
   "metadata": {},
   "outputs": [
    {
     "name": "stdout",
     "output_type": "stream",
     "text": [
      "Correlation coefficient: -0.02737568831603985\n",
      "With no \"historic\" data: -0.0010054420354741267\n"
     ]
    }
   ],
   "source": [
    "historical_returns = pd.concat([AMD_2019, AMD_2020]).reset_index()\n",
    "historical_returns = historical_returns[\"close\"].pct_change(1)[1:].to_numpy()\n",
    "\n",
    "walking_volatility = np.vectorize(lambda n: np.concatenate([ historical_returns, sample_returns[:n] ],axis=0).std() * N)\n",
    "sample_volatilities = np.fromfunction(walking_volatility, sample_returns.shape, dtype=int)\n",
    "corr_coef = np.corrcoef(sample_volatilities, sample_returns)[0,1]\n",
    "\n",
    "walking_vol_no_hist = np.vectorize(lambda n: sample_returns[:n+1].std() * N)\n",
    "sample_no_hist_volatilities = np.fromfunction(walking_vol_no_hist, sample_returns.shape, dtype=int)\n",
    "no_hist_corr = np.corrcoef(sample_no_hist_volatilities, sample_returns)[0,1]\n",
    "\n",
    "print(f\"Correlation coefficient: {corr_coef}\")\n",
    "print(f\"With no \\\"historic\\\" data: {no_hist_corr}\")\n",
    "# sample_volatilities = #"
   ]
  },
  {
   "cell_type": "markdown",
   "id": "f9e3c020-75f1-497a-9661-d32f7442b319",
   "metadata": {},
   "source": [
    "Find volatility of volatility: "
   ]
  },
  {
   "cell_type": "code",
   "execution_count": 12,
   "id": "f54f0703-c4f2-414a-9c2e-0a14e00942b7",
   "metadata": {},
   "outputs": [
    {
     "name": "stdout",
     "output_type": "stream",
     "text": [
      "With historic data 0.01021045592591265\n",
      "Without: 0.05754860949002667\n"
     ]
    }
   ],
   "source": [
    "print(f\"With historic data {sample_volatilities.std()}\")\n",
    "print(f\"Without: {sample_no_hist_volatilities.std()}\")"
   ]
  },
  {
   "cell_type": "markdown",
   "id": "dd90e809-3162-480b-8a39-670548ad735d",
   "metadata": {},
   "source": [
    "Finding the mean reversion rate:"
   ]
  },
  {
   "cell_type": "code",
   "execution_count": 23,
   "id": "d4f15767-bb82-4b7d-9261-a4254cec1650",
   "metadata": {},
   "outputs": [
    {
     "data": {
      "text/plain": [
       "-0.015445727286944152"
      ]
     },
     "execution_count": 23,
     "metadata": {},
     "output_type": "execute_result"
    }
   ],
   "source": [
    "import statsmodels as sm\n",
    "model = sm.tsa.ar_model.AutoReg(sample_returns, 1)\n",
    "model_fit = model.fit()\n",
    "reversion_rate = model_fit.params[1]\n",
    "reversion_rate"
   ]
  },
  {
   "cell_type": "markdown",
   "id": "8173a036-40a5-47ef-82be-00b2111f4fbb",
   "metadata": {},
   "source": [
    "### Running the model"
   ]
  },
  {
   "cell_type": "code",
   "execution_count": 24,
   "id": "bf02e90c-0296-48f5-84f3-6f19269079a5",
   "metadata": {},
   "outputs": [
    {
     "data": {
      "text/plain": [
       "138.39242257974047"
      ]
     },
     "execution_count": 24,
     "metadata": {},
     "output_type": "execute_result"
    }
   ],
   "source": [
    "heston(138.56, 41/365)"
   ]
  }
 ],
 "metadata": {
  "kernelspec": {
   "display_name": "Python 3 (ipykernel)",
   "language": "python",
   "name": "python3"
  },
  "language_info": {
   "codemirror_mode": {
    "name": "ipython",
    "version": 3
   },
   "file_extension": ".py",
   "mimetype": "text/x-python",
   "name": "python",
   "nbconvert_exporter": "python",
   "pygments_lexer": "ipython3",
   "version": "3.11.8"
  }
 },
 "nbformat": 4,
 "nbformat_minor": 5
}
